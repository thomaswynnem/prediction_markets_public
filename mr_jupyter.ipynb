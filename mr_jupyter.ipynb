{
 "cells": [
  {
   "cell_type": "code",
   "execution_count": null,
   "metadata": {},
   "outputs": [
    {
     "ename": "KeyboardInterrupt",
     "evalue": "",
     "output_type": "error",
     "traceback": [
      "\u001b[1;31m---------------------------------------------------------------------------\u001b[0m",
      "\u001b[1;31mKeyboardInterrupt\u001b[0m                         Traceback (most recent call last)",
      "Cell \u001b[1;32mIn[1], line 2\u001b[0m\n\u001b[0;32m      1\u001b[0m \u001b[38;5;28;01mimport\u001b[39;00m \u001b[38;5;21;01mpandas\u001b[39;00m \u001b[38;5;28;01mas\u001b[39;00m \u001b[38;5;21;01mpd\u001b[39;00m\n\u001b[1;32m----> 2\u001b[0m \u001b[38;5;28;01mimport\u001b[39;00m \u001b[38;5;21;01mos\u001b[39;00m\n\u001b[0;32m      4\u001b[0m \u001b[38;5;28;01mfrom\u001b[39;00m \u001b[38;5;21;01mbettorCorrectRate\u001b[39;00m \u001b[38;5;28;01mimport\u001b[39;00m correctPerc\n\u001b[0;32m      6\u001b[0m \u001b[38;5;28;01mfrom\u001b[39;00m \u001b[38;5;21;01mmarketCorrectDistribution\u001b[39;00m \u001b[38;5;28;01mimport\u001b[39;00m correctIntervals\n",
      "File \u001b[1;32m<stringsource>:69\u001b[0m, in \u001b[0;36mcfunc.to_py.__Pyx_CFunc_b0409f__29_pydevd_sys_monitoring_cython_object__lParen__etc_to_py_4code_4line.wrap\u001b[1;34m()\u001b[0m\n",
      "File \u001b[1;32m_pydevd_sys_monitoring\\\\_pydevd_sys_monitoring_cython.pyx:1429\u001b[0m, in \u001b[0;36m_pydevd_sys_monitoring_cython._line_event\u001b[1;34m()\u001b[0m\n",
      "File \u001b[1;32m_pydevd_sys_monitoring\\\\_pydevd_sys_monitoring_cython.pyx:1534\u001b[0m, in \u001b[0;36m_pydevd_sys_monitoring_cython._internal_line_event\u001b[1;34m()\u001b[0m\n",
      "File \u001b[1;32m_pydevd_sys_monitoring\\\\_pydevd_sys_monitoring_cython.pyx:1906\u001b[0m, in \u001b[0;36m_pydevd_sys_monitoring_cython._do_wait_suspend\u001b[1;34m()\u001b[0m\n",
      "File \u001b[1;32m~\\AppData\\Roaming\\Python\\Python312\\site-packages\\debugpy\\_vendored\\pydevd\\pydevd.py:2197\u001b[0m, in \u001b[0;36mPyDB.do_wait_suspend\u001b[1;34m(self, thread, frame, event, arg, exception_type)\u001b[0m\n\u001b[0;32m   2194\u001b[0m             from_this_thread\u001b[38;5;241m.\u001b[39mappend(frame_custom_thread_id)\n\u001b[0;32m   2196\u001b[0m     \u001b[38;5;28;01mwith\u001b[39;00m \u001b[38;5;28mself\u001b[39m\u001b[38;5;241m.\u001b[39m_threads_suspended_single_notification\u001b[38;5;241m.\u001b[39mnotify_thread_suspended(thread_id, thread, stop_reason):\n\u001b[1;32m-> 2197\u001b[0m         keep_suspended \u001b[38;5;241m=\u001b[39m \u001b[38;5;28;43mself\u001b[39;49m\u001b[38;5;241;43m.\u001b[39;49m\u001b[43m_do_wait_suspend\u001b[49m\u001b[43m(\u001b[49m\u001b[43mthread\u001b[49m\u001b[43m,\u001b[49m\u001b[43m \u001b[49m\u001b[43mframe\u001b[49m\u001b[43m,\u001b[49m\u001b[43m \u001b[49m\u001b[43mevent\u001b[49m\u001b[43m,\u001b[49m\u001b[43m \u001b[49m\u001b[43marg\u001b[49m\u001b[43m,\u001b[49m\u001b[43m \u001b[49m\u001b[43mtrace_suspend_type\u001b[49m\u001b[43m,\u001b[49m\u001b[43m \u001b[49m\u001b[43mfrom_this_thread\u001b[49m\u001b[43m,\u001b[49m\u001b[43m \u001b[49m\u001b[43mframes_tracker\u001b[49m\u001b[43m)\u001b[49m\n\u001b[0;32m   2199\u001b[0m frames_list \u001b[38;5;241m=\u001b[39m \u001b[38;5;28;01mNone\u001b[39;00m\n\u001b[0;32m   2201\u001b[0m \u001b[38;5;28;01mif\u001b[39;00m keep_suspended:\n\u001b[0;32m   2202\u001b[0m     \u001b[38;5;66;03m# This means that we should pause again after a set next statement.\u001b[39;00m\n",
      "File \u001b[1;32m~\\AppData\\Roaming\\Python\\Python312\\site-packages\\debugpy\\_vendored\\pydevd\\pydevd.py:2266\u001b[0m, in \u001b[0;36mPyDB._do_wait_suspend\u001b[1;34m(self, thread, frame, event, arg, trace_suspend_type, from_this_thread, frames_tracker)\u001b[0m\n\u001b[0;32m   2263\u001b[0m                 queue\u001b[38;5;241m.\u001b[39mput(internal_cmd)\n\u001b[0;32m   2264\u001b[0m                 wait_timeout \u001b[38;5;241m=\u001b[39m TIMEOUT_FAST\n\u001b[1;32m-> 2266\u001b[0m         \u001b[43mnotify_event\u001b[49m\u001b[38;5;241;43m.\u001b[39;49m\u001b[43mwait\u001b[49m\u001b[43m(\u001b[49m\u001b[43mwait_timeout\u001b[49m\u001b[43m)\u001b[49m\n\u001b[0;32m   2267\u001b[0m         notify_event\u001b[38;5;241m.\u001b[39mclear()\n\u001b[0;32m   2269\u001b[0m \u001b[38;5;28;01mfinally\u001b[39;00m:\n",
      "File \u001b[1;32mc:\\Python312\\Lib\\threading.py:655\u001b[0m, in \u001b[0;36mEvent.wait\u001b[1;34m(self, timeout)\u001b[0m\n\u001b[0;32m    653\u001b[0m signaled \u001b[38;5;241m=\u001b[39m \u001b[38;5;28mself\u001b[39m\u001b[38;5;241m.\u001b[39m_flag\n\u001b[0;32m    654\u001b[0m \u001b[38;5;28;01mif\u001b[39;00m \u001b[38;5;129;01mnot\u001b[39;00m signaled:\n\u001b[1;32m--> 655\u001b[0m     signaled \u001b[38;5;241m=\u001b[39m \u001b[38;5;28;43mself\u001b[39;49m\u001b[38;5;241;43m.\u001b[39;49m\u001b[43m_cond\u001b[49m\u001b[38;5;241;43m.\u001b[39;49m\u001b[43mwait\u001b[49m\u001b[43m(\u001b[49m\u001b[43mtimeout\u001b[49m\u001b[43m)\u001b[49m\n\u001b[0;32m    656\u001b[0m \u001b[38;5;28;01mreturn\u001b[39;00m signaled\n",
      "File \u001b[1;32mc:\\Python312\\Lib\\threading.py:359\u001b[0m, in \u001b[0;36mCondition.wait\u001b[1;34m(self, timeout)\u001b[0m\n\u001b[0;32m    357\u001b[0m \u001b[38;5;28;01melse\u001b[39;00m:\n\u001b[0;32m    358\u001b[0m     \u001b[38;5;28;01mif\u001b[39;00m timeout \u001b[38;5;241m>\u001b[39m \u001b[38;5;241m0\u001b[39m:\n\u001b[1;32m--> 359\u001b[0m         gotit \u001b[38;5;241m=\u001b[39m \u001b[43mwaiter\u001b[49m\u001b[38;5;241;43m.\u001b[39;49m\u001b[43macquire\u001b[49m\u001b[43m(\u001b[49m\u001b[38;5;28;43;01mTrue\u001b[39;49;00m\u001b[43m,\u001b[49m\u001b[43m \u001b[49m\u001b[43mtimeout\u001b[49m\u001b[43m)\u001b[49m\n\u001b[0;32m    360\u001b[0m     \u001b[38;5;28;01melse\u001b[39;00m:\n\u001b[0;32m    361\u001b[0m         gotit \u001b[38;5;241m=\u001b[39m waiter\u001b[38;5;241m.\u001b[39macquire(\u001b[38;5;28;01mFalse\u001b[39;00m)\n",
      "\u001b[1;31mKeyboardInterrupt\u001b[0m: "
     ]
    }
   ],
   "source": [
    "import pandas as pd\n",
    "import os\n",
    "\n",
    "from bettorCorrectRate import correctPerc\n",
    "\n",
    "from marketCorrectDistribution import correctIntervals\n",
    "\n",
    "from marketCorrectRate import correctContracts\n",
    "\n",
    "from sizedBuyersDistribution import intervalPerc\n",
    "\n",
    "from timelineCorrectness import contractSwitcher\n",
    "\n",
    "from largeInvQuarters import contractSizedSwitcher\n",
    "\n",
    "from timeLineAmounts import contractAmountSwitcher\n",
    "\n",
    "from contracts import marketDetails\n",
    "\n",
    "from aifixer import aifixer"
   ]
  },
  {
   "cell_type": "code",
   "execution_count": null,
   "metadata": {},
   "outputs": [],
   "source": [
    "marketOutcomes = pd.read_csv('data/silver/marketOutcomes.csv')\n",
    "\n",
    "totalBuyScansDF = pd.read_csv('data/silver/contract_buy.csv')"
   ]
  },
  {
   "cell_type": "code",
   "execution_count": null,
   "metadata": {},
   "outputs": [],
   "source": [
    "if not os.path.exists('data/silver/allContracts'):\n",
    "    os.mkdir('data/silver/allContracts')\n",
    "\n",
    "### Collect Data\n",
    "\n",
    "filepath = 'data/silver/markets_with_ai_categories.csv'\n",
    "print(filepath)\n",
    "if not os.path.exists(filepath):\n",
    "    marketsDF = pd.read_csv('data/silver/markets.csv')\n",
    "    marketsDF = aifixer(marketsDF)\n",
    "else:\n",
    "    marketsDF = pd.read_csv(filepath)\n",
    "\n",
    "filepath = 'data/silver/markets_with_ai_categories.csv'\n",
    "marketsDF = pd.read_csv(filepath)\n",
    "\n",
    "for index, row in marketsDF.iterrows():\n",
    "    print(row['category'])\n",
    "    marketsDF.loc[index, 'category'] = row['category'].strip(' - ')\n",
    "print(marketsDF['category'].unique())\n",
    "\n",
    "if 'predicted_category' in marketsDF:\n",
    "    marketsDF = marketsDF.drop(columns='category')\n",
    "    marketsDF = marketsDF.rename(columns={'predicted_category': 'category'})\n",
    "    marketsDF.to_csv(filepath)\n",
    "    print(\"All Clear\")\n",
    "else:\n",
    "    marketsDF.to_csv(filepath)\n",
    "    print(\"All Clear\")"
   ]
  },
  {
   "cell_type": "code",
   "execution_count": null,
   "metadata": {},
   "outputs": [],
   "source": [
    "\n",
    "### CorrectsRates\n",
    "filepath1 = 'data/silver/allContracts/correctsRates.csv'\n",
    "\n",
    "print(filepath1)\n",
    "if not os.path.exists(filepath1):\n",
    "    bettorCorrectRate, totalBuys, totalCorrect = correctPerc(totalBuyScansDF, marketOutcomes)\n",
    "\n",
    "    contractCorrectRates, intervals = correctIntervals(totalBuyScansDF, marketOutcomes)\n",
    "\n",
    "    contractCorrectRate = correctContracts(totalBuyScansDF, marketOutcomes)\n",
    "\n",
    "    correctRateDF = pd.DataFrame([bettorCorrectRate,contractCorrectRate,[contractCorrectRates],[intervals]], index=[\"BettorCorrectRate\", \"contractCorrectRate\",\"cCRbyDistr\",\"Distribution\"])\n",
    "    correctRateDF.to_csv(filepath1)\n",
    "###\n",
    "\n"
   ]
  },
  {
   "cell_type": "code",
   "execution_count": null,
   "metadata": {},
   "outputs": [],
   "source": [
    "path2 = 'data/silver/allContracts/timeline_quarterDF.csv'\n",
    "\n",
    "print(path2)\n",
    "if not os.path.exists(path2):\n",
    "    quarterCorrect, quarterTotal = contractSwitcher(totalBuyScansDF, marketOutcomes)\n",
    "    quarterSizedCorrect, quarterSizedTotal = contractSizedSwitcher(totalBuyScansDF, marketOutcomes, 1500)\n",
    "    quarterAmounts = contractAmountSwitcher(totalBuyScansDF)\n",
    "\n",
    "    quarterPerc = []\n",
    "    quarterSizedPerc = []\n",
    "    for iv in range(4):\n",
    "\n",
    "        quarterPerc.append(quarterCorrect[iv]/quarterTotal[iv])\n",
    "        quarterSizedPerc.append(quarterSizedCorrect[iv]/quarterSizedTotal[iv])\n",
    "\n",
    "\n",
    "    timelineDF = pd.DataFrame([quarterAmounts, quarterTotal, quarterPerc, quarterSizedTotal, quarterSizedPerc], index=[\"Money\",\"Bets\", \"PercC\", \"BigBets\",\"BigPercC\"], columns=[\"Quarter1\", \"Quarter2\", \"Quarter3\", \"Quarter4\"])\n",
    "    timelineDF.to_csv(path2)\n",
    "###"
   ]
  },
  {
   "cell_type": "code",
   "execution_count": null,
   "metadata": {},
   "outputs": [],
   "source": [
    "### valueDF\n",
    "path3 = 'data/silver/allContracts/valueDF.csv'\n",
    "print(path3)\n",
    "if not os.path.exists(path3):\n",
    "    intervalBracket, correctRate, buygr = intervalPerc(totalBuyScansDF, marketOutcomes)\n",
    "    dollarlyDF = pd.DataFrame([buygr, correctRate], index=[\"Number of Bets\", \"Correct Rate\"], columns=[\"0\", \"100\", \"200\",\"300\",\"400\",\"500\",\"600\",\"700\",\"800\",\"900\",])\n",
    "    dollarlyDF.to_csv(path3)"
   ]
  },
  {
   "cell_type": "code",
   "execution_count": null,
   "metadata": {},
   "outputs": [
    {
     "ename": "FileExistsError",
     "evalue": "[WinError 183] Cannot create a file when that file already exists: 'data/silver/Subjects'",
     "output_type": "error",
     "traceback": [
      "\u001b[1;31m---------------------------------------------------------------------------\u001b[0m",
      "\u001b[1;31mFileExistsError\u001b[0m                           Traceback (most recent call last)",
      "Cell \u001b[1;32mIn[4], line 3\u001b[0m\n\u001b[0;32m      1\u001b[0m \u001b[38;5;28;01mfrom\u001b[39;00m \u001b[38;5;21;01mcategories\u001b[39;00m \u001b[38;5;28;01mimport\u001b[39;00m runCategories\n\u001b[1;32m----> 3\u001b[0m [coronaBucket, cryptoBucket, politicsBucket, popBucket, techBucket, sportsBucket] \u001b[38;5;241m=\u001b[39m \u001b[43mrunCategories\u001b[49m\u001b[43m(\u001b[49m\u001b[43m)\u001b[49m\n",
      "File \u001b[1;32mc:\\Users\\thoma\\PredictionMarkets\\prediction_markets\\categories.py:21\u001b[0m, in \u001b[0;36mrunCategories\u001b[1;34m(marketOutcomes, totalBuyScansDF, marketsDF)\u001b[0m\n\u001b[0;32m     20\u001b[0m \u001b[38;5;28;01mdef\u001b[39;00m \u001b[38;5;21mrunCategories\u001b[39m(marketOutcomes \u001b[38;5;241m=\u001b[39m pd\u001b[38;5;241m.\u001b[39mread_csv(\u001b[38;5;124m'\u001b[39m\u001b[38;5;124mdata/silver/marketOutcomes.csv\u001b[39m\u001b[38;5;124m'\u001b[39m), totalBuyScansDF \u001b[38;5;241m=\u001b[39m pd\u001b[38;5;241m.\u001b[39mread_csv(\u001b[38;5;124m'\u001b[39m\u001b[38;5;124mdata/silver/contract_buy.csv\u001b[39m\u001b[38;5;124m'\u001b[39m),  marketsDF \u001b[38;5;241m=\u001b[39m  pd\u001b[38;5;241m.\u001b[39mread_csv(\u001b[38;5;124m'\u001b[39m\u001b[38;5;124mdata/silver/markets_with_ai_categories.csv\u001b[39m\u001b[38;5;124m'\u001b[39m)):\n\u001b[1;32m---> 21\u001b[0m     \u001b[43mos\u001b[49m\u001b[38;5;241;43m.\u001b[39;49m\u001b[43mmkdir\u001b[49m\u001b[43m(\u001b[49m\u001b[38;5;124;43m'\u001b[39;49m\u001b[38;5;124;43mdata/silver/Subjects\u001b[39;49m\u001b[38;5;124;43m'\u001b[39;49m\u001b[43m)\u001b[49m\n\u001b[0;32m     24\u001b[0m     categories \u001b[38;5;241m=\u001b[39m marketsDF[\u001b[38;5;124m'\u001b[39m\u001b[38;5;124mcategory\u001b[39m\u001b[38;5;124m'\u001b[39m]\u001b[38;5;241m.\u001b[39munique()\n\u001b[0;32m     26\u001b[0m     \u001b[38;5;28mprint\u001b[39m(categories)\n",
      "\u001b[1;31mFileExistsError\u001b[0m: [WinError 183] Cannot create a file when that file already exists: 'data/silver/Subjects'"
     ]
    }
   ],
   "source": [
    "from categories import runCategories\n",
    "\n",
    "[coronaBucket, cryptoBucket, politicsBucket, popBucket, techBucket, sportsBucket] = runCategories(marketOutcomes, totalBuyScansDF, marketsDF)"
   ]
  },
  {
   "cell_type": "code",
   "execution_count": null,
   "metadata": {},
   "outputs": [],
   "source": [
    "categorySpending, contractSpending, contractSplits = marketDetails()"
   ]
  },
  {
   "cell_type": "markdown",
   "metadata": {},
   "source": []
  }
 ],
 "metadata": {
  "kernelspec": {
   "display_name": "Python 3",
   "language": "python",
   "name": "python3"
  },
  "language_info": {
   "codemirror_mode": {
    "name": "ipython",
    "version": 3
   },
   "file_extension": ".py",
   "mimetype": "text/x-python",
   "name": "python",
   "nbconvert_exporter": "python",
   "pygments_lexer": "ipython3",
   "version": "3.12.4"
  }
 },
 "nbformat": 4,
 "nbformat_minor": 2
}
